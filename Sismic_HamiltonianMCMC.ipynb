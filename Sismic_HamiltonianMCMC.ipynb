{
 "cells": [
  {
   "cell_type": "code",
   "execution_count": 1,
   "metadata": {
    "collapsed": false
   },
   "outputs": [
    {
     "name": "stdout",
     "output_type": "stream",
     "text": [
      "Populating the interactive namespace from numpy and matplotlib\n"
     ]
    }
   ],
   "source": [
    "%pylab inline"
   ]
  },
  {
   "cell_type": "code",
   "execution_count": 6,
   "metadata": {
    "collapsed": false
   },
   "outputs": [
    {
     "name": "stdout",
     "output_type": "stream",
     "text": [
      "[[  2.  20.   0.]\n",
      " [ -2.  -1.   0.]\n",
      " [  5.  12.   0.]\n",
      " [  8.  10.   0.]\n",
      " [  5. -16.   0.]\n",
      " [  1.  40.   0.]] [ 3.23  3.82  2.27  3.04  5.65  6.57]\n"
     ]
    }
   ],
   "source": [
    "# Position of detection stations\n",
    "R = np.zeros((6,3))\n",
    "R[0] = np.array([2.0 ,20.0 ,0.0])\n",
    "R[1] = np.array([-2.0,-1.0 ,0.0])\n",
    "R[2] = np.array([5.0 ,12.0 ,0.0])\n",
    "R[3] = np.array([8.0 ,10.0 ,0.0])\n",
    "R[4] = np.array([5.0 ,-16.0,0.0])\n",
    "R[5] = np.array([1.0 ,40.0 ,0.0])\n",
    "# Times of arrival\n",
    "T = np.array([3.23,3.82,2.27,3.04,5.65,6.57])\n",
    "print(R,T)"
   ]
  },
  {
   "cell_type": "code",
   "execution_count": 4,
   "metadata": {
    "collapsed": false
   },
   "outputs": [
    {
     "data": {
      "text/plain": [
       "<matplotlib.collections.PathCollection at 0x7fe158c8c7b8>"
      ]
     },
     "execution_count": 4,
     "metadata": {},
     "output_type": "execute_result"
    },
    {
     "data": {
      "image/png": "[encoded data removed]",
      "text/plain": [
       "<matplotlib.figure.Figure at 0x7fe15d4ef4a8>"
      ]
     },
     "metadata": {},
     "output_type": "display_data"
    }
   ],
   "source": [
    "scatter(R.T[0],R.T[1])"
   ]
  },
  {
   "cell_type": "code",
   "execution_count": 5,
   "metadata": {
    "collapsed": true
   },
   "outputs": [],
   "source": [
    "# Uncertainty in time, declared velocity\n",
    "sigmat = 0.05\n",
    "v      = 5"
   ]
  },
  {
   "cell_type": "markdown",
   "metadata": {},
   "source": [
    "Let us take the most simple model for the propagation of the sismic wave:\n",
    "\n",
    "$\\left|\\vec{r}-\\vec{r}_0\\right| = vt$\n",
    "\n",
    "Where $\\vec{r}$ is the position in which the wave is detected, $\\vec{r}_0$ is the epicenter and $t$ is the time of arrival.\n",
    "\n",
    "This leads us to the theoretical model for the time:\n",
    "$t = \\left|\\vec{r}-\\vec{r}_0\\right|/v$\n",
    "\n",
    "Which defines the likelihood:\n",
    "\n",
    "$$LIKE= \\sum \\frac{(t_{obs} -t_{theo})^2}{\\sigma_t} = \\sum \\frac{\\left(t_{obs} -\\frac{\\left|\\vec{r_{obs}}-\\vec{r}_0\\right|}{v}\\right)^2}{\\sigma_t}$$\n",
    "\n",
    "With this, Hamiltonian is defined with potential related to -log(likelihood)\n"
   ]
  },
  {
   "cell_type": "code",
   "execution_count": 10,
   "metadata": {
    "collapsed": true
   },
   "outputs": [],
   "source": [
    "# x,y,z is r0\n",
    "def likelihood(x,y,z):\n",
    "    like = np.sum( T - (1.0/v)*((x-R.T[0])**2+(y-R.T[1])**2+(z-R.T[2])**2))\n",
    "def loglikelihood(q):\n",
    "    return -q*q\n",
    "def gradient_loglikelihood(q):\n",
    "    return -2*q\n",
    "def leapfrog(q,p, delta_t=1E-1, niter=5):\n",
    "    q_new = q\n",
    "    p_new = p\n",
    "    for i in range(niter):\n",
    "        p_new = p_new + 0.5 * delta_t * gradient_loglikelihood(q_new)\n",
    "        q_new = q_new + delta_t * p_new\n",
    "        p_new = p_new + 0.5 * delta_t * gradient_loglikelihood(q_new)\n",
    "    return q_new, p_new"
   ]
  },
  {
   "cell_type": "code",
   "execution_count": 9,
   "metadata": {
    "collapsed": false
   },
   "outputs": [
    {
     "name": "stdout",
     "output_type": "stream",
     "text": [
      "[  12.   12.   75.  192.   75.    3.]\n"
     ]
    }
   ],
   "source": [
    "print(Rnorm)"
   ]
  },
  {
   "cell_type": "code",
   "execution_count": null,
   "metadata": {
    "collapsed": true
   },
   "outputs": [],
   "source": []
  }
 ],
 "metadata": {
  "kernelspec": {
   "display_name": "Python 3",
   "language": "python",
   "name": "python3"
  },
  "language_info": {
   "codemirror_mode": {
    "name": "ipython",
    "version": 3
   },
   "file_extension": ".py",
   "mimetype": "text/x-python",
   "name": "python",
   "nbconvert_exporter": "python",
   "pygments_lexer": "ipython3",
   "version": "3.5.2"
  }
 },
 "nbformat": 4,
 "nbformat_minor": 2
}
