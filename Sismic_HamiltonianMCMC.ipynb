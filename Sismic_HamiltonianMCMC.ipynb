{
 "cells": [
  {
   "cell_type": "code",
   "execution_count": 1,
   "metadata": {
    "collapsed": false
   },
   "outputs": [
    {
     "name": "stdout",
     "output_type": "stream",
     "text": [
      "Populating the interactive namespace from numpy and matplotlib\n"
     ]
    }
   ],
   "source": [
    "%pylab inline"
   ]
  },
  {
   "cell_type": "code",
   "execution_count": 6,
   "metadata": {
    "collapsed": false
   },
   "outputs": [
    {
     "name": "stdout",
     "output_type": "stream",
     "text": [
      "[[  2.  20.   0.]\n",
      " [ -2.  -1.   0.]\n",
      " [  5.  12.   0.]\n",
      " [  8.  10.   0.]\n",
      " [  5. -16.   0.]\n",
      " [  1.  40.   0.]] [ 3.23  3.82  2.27  3.04  5.65  6.57]\n"
     ]
    }
   ],
   "source": [
    "# Position of detection stations\n",
    "R = np.zeros((6,3))\n",
    "R[0] = np.array([2.0 ,20.0 ,0.0])\n",
    "R[1] = np.array([-2.0,-1.0 ,0.0])\n",
    "R[2] = np.array([5.0 ,12.0 ,0.0])\n",
    "R[3] = np.array([8.0 ,10.0 ,0.0])\n",
    "R[4] = np.array([5.0 ,-16.0,0.0])\n",
    "R[5] = np.array([1.0 ,40.0 ,0.0])\n",
    "# Times of arrival\n",
    "T = np.array([3.23,3.82,2.27,3.04,5.65,6.57])\n",
    "print(R,T)"
   ]
  },
  {
   "cell_type": "code",
   "execution_count": 70,
   "metadata": {
    "collapsed": true
   },
   "outputs": [],
   "source": [
    "# Uncertainty in time, declared velocity\n",
    "sigmat = 0.05\n",
    "v      = 5.0"
   ]
  },
  {
   "cell_type": "code",
   "execution_count": 80,
   "metadata": {
    "collapsed": false
   },
   "outputs": [
    {
     "data": {
      "text/plain": [
       "(-10, 40)"
      ]
     },
     "execution_count": 80,
     "metadata": {},
     "output_type": "execute_result"
    },
    {
     "data": {
      "image/png": "[encoded data removed]",
      "text/plain": [
       "<matplotlib.figure.Figure at 0x7fe1584c4c88>"
      ]
     },
     "metadata": {},
     "output_type": "display_data"
    }
   ],
   "source": [
    "fig, ax = plt.subplots()\n",
    "ax.scatter(R.T[0],R.T[1])\n",
    "for i in range(6):\n",
    "    circle1 = plt.Circle((R[i][0],R[i][1]), v*T[i], color='r',alpha= 0.1)\n",
    "    ax.add_artist(circle1)\n",
    "#plt.Circle((R-10-[0],R.T[1]), v*T[i], color='r')\n",
    "ax.set_xlim(-10,40)\n"
   ]
  },
  {
   "cell_type": "markdown",
   "metadata": {},
   "source": [
    "Let us take the most simple model for the propagation of the sismic wave:\n",
    "\n",
    "$\\left|\\vec{r}-\\vec{r}_0\\right| = vt$\n",
    "\n",
    "Where $\\vec{r}$ is the position in which the wave is detected, $\\vec{r}_0$ is the epicenter and $t$ is the time of arrival.\n",
    "\n",
    "This leads us to the theoretical model for the time:\n",
    "$t = \\left|\\vec{r}-\\vec{r}_0\\right|/v$\n",
    "\n",
    "Which defines the $\\chi^2$:\n",
    "\n",
    "$$\\chi^2= \\frac{1}{2}\\sum \\frac{(t_{obs} -t_{theo})^2}{\\sigma_t} = \\sum \\frac{\\left(t_{obs} -\\frac{\\left|\\vec{r_{obs}}-\\vec{r}_0\\right|}{v}\\right)^2}{\\sigma_t}$$\n",
    "\n",
    "With this, Hamiltonian is defined with potential related to -log(likelihood)\n"
   ]
  },
  {
   "cell_type": "code",
   "execution_count": 66,
   "metadata": {
    "collapsed": true
   },
   "outputs": [],
   "source": [
    "# Structure of code from: \n",
    "#https://github.com/ComputoCienciasUniandes/MetodosComputacionalesAvanzados/blob/master/weeks/09/hamiltoniano.ipynb \n",
    "# x,y,z is r0\n",
    "def likelihood(epiR):\n",
    "    x,y,z = epiR\n",
    "    like = np.exp(-0.5*np.sum( (T - (1.0/v)*((x-R.T[0])**2+(y-R.T[1])**2+(z-R.T[2])**2))**2))\n",
    "def loglikelihood(epiR):\n",
    "    x,y,z = epiR\n",
    "    return -0.5*np.sum( (T - (1.0/v)*((x-R.T[0])**2+(y-R.T[1])**2+(z-R.T[2])**2))**2)\n",
    "# vector\n",
    "def gradient_loglikelihood(epiR):\n",
    "    x,y,z = epiR\n",
    "    #print(x,y,z)\n",
    "    return np.array([np.sum(-(2.0/v)*(T - (1.0/v)*((x-R.T[0])**2+(y-R.T[1])**2+(z-R.T[2])**2))\n",
    "            *(1.0/((x-R.T[0])**2+(y-R.T[1])**2+(z-R.T[2])**2))*(R.T[i]-epiR[i])) for i in range(3)])\n",
    "# epiR, epiP are vectors\n",
    "def leapfrog(epiR,epiP, delta_t=0.5E-2, niter=10):\n",
    "    epiR_new = epiR.copy()\n",
    "    epiP_new = epiP.copy()\n",
    "    for i in range(niter):\n",
    "        epiP_new = epiP_new + 0.5 * delta_t * gradient_loglikelihood(epiR_new)\n",
    "        epiR_new = epiR_new + delta_t * epiP_new\n",
    "        epiP_new = epiP_new + 0.5 * delta_t * gradient_loglikelihood(epiR_new)\n",
    "    return epiR_new, epiP_new\n",
    "\n",
    "def H(epiR,epiP):\n",
    "    K = 0.5 * np.linalg.norm(epiP)**2\n",
    "    U = -loglikelihood(epiR)\n",
    "    return K + U"
   ]
  },
  {
   "cell_type": "markdown",
   "metadata": {},
   "source": [
    "## HAMILTONIAN MCMC IS NOW PREPARED ##"
   ]
  },
  {
   "cell_type": "code",
   "execution_count": 67,
   "metadata": {
    "collapsed": true
   },
   "outputs": [],
   "source": [
    "def MCMC(nsteps):\n",
    "    epiR = np.zeros((nsteps,3))\n",
    "    epiP = np.zeros((nsteps,3))\n",
    "    # Defines sigmap and sigmar\n",
    "    sigmar = 1\n",
    "    sigmap = 1\n",
    "    epiP[0] = np.array([np.random.normal(0,sigmap),np.random.normal(0,sigmap),np.random.normal(0,sigmap)])\n",
    "    epiR[0] = np.array([np.random.normal(0,sigmar),np.random.normal(0,sigmar),np.random.normal(0,sigmar)])\n",
    "    for i in range(1,nsteps):\n",
    "        epiP[i] = np.array([np.random.normal(0,sigmap),np.random.normal(0,sigmap),np.random.normal(0,sigmap)])\n",
    "        epiR_new, epiP_new = leapfrog(epiR[i-1],epiP[i-1])\n",
    "        E_new = H(epiR_new, epiP_new)\n",
    "        E_old = H(epiR[i-1], epiP[i-1])\n",
    "        alpha = min(1.0,np.exp(-E_new + E_old))\n",
    "        beta = np.random.random()\n",
    "        if beta < alpha:\n",
    "            epiR[i] = epiR_new\n",
    "        else:\n",
    "            epiR[i] = epiR[i-1]\n",
    "    return epiR"
   ]
  },
  {
   "cell_type": "code",
   "execution_count": 68,
   "metadata": {
    "collapsed": false
   },
   "outputs": [],
   "source": [
    "epiR_chain = MCMC(1000)\n"
   ]
  },
  {
   "cell_type": "code",
   "execution_count": 69,
   "metadata": {
    "collapsed": false
   },
   "outputs": [
    {
     "data": {
      "text/plain": [
       "<matplotlib.collections.PathCollection at 0x7fe1586471d0>"
      ]
     },
     "execution_count": 69,
     "metadata": {},
     "output_type": "execute_result"
    },
    {
     "data": {
      "image/png": "[encoded data removed]",
      "text/plain": [
       "<matplotlib.figure.Figure at 0x7fe1587371d0>"
      ]
     },
     "metadata": {},
     "output_type": "display_data"
    }
   ],
   "source": [
    "scatter(epiR_chain.T[0],epiR_chain.T[1],alpha=0.1)"
   ]
  },
  {
   "cell_type": "code",
   "execution_count": 37,
   "metadata": {
    "collapsed": false
   },
   "outputs": [
    {
     "data": {
      "text/plain": [
       "10000"
      ]
     },
     "execution_count": 37,
     "metadata": {},
     "output_type": "execute_result"
    }
   ],
   "source": [
    "len(epiR_chain.T[1])"
   ]
  },
  {
   "cell_type": "code",
   "execution_count": null,
   "metadata": {
    "collapsed": true
   },
   "outputs": [],
   "source": [
    "fig, ax = plt.subplots()\n",
    "ax.scatter(R.T[0],R.T[1])\n",
    "for i in range(6):\n",
    "    circle1 = plt.Circle((R[i][0],R[i][1]), v*T[i], color='r',alpha= 0.1)\n",
    "    ax.add_artist(circle1)\n",
    "#plt.Circle((R-10-[0],R.T[1]), v*T[i], color='r')\n",
    "ax.set_xlim(-10,40)\n"
   ]
  }
 ],
 "metadata": {
  "kernelspec": {
   "display_name": "Python 3",
   "language": "python",
   "name": "python3"
  },
  "language_info": {
   "codemirror_mode": {
    "name": "ipython",
    "version": 3
   },
   "file_extension": ".py",
   "mimetype": "text/x-python",
   "name": "python",
   "nbconvert_exporter": "python",
   "pygments_lexer": "ipython3",
   "version": "3.5.2"
  }
 },
 "nbformat": 4,
 "nbformat_minor": 2
}
